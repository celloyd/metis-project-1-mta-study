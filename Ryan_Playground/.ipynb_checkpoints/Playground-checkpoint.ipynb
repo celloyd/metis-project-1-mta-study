{
 "cells": [
  {
   "cell_type": "code",
   "execution_count": null,
   "metadata": {},
   "outputs": [],
   "source": [
    "import matplotlib.pyplot as plt\n",
    "import numpy as np\n",
    "import pandas as pd\n",
    "\n",
    "# You can configure the format of the images: ‘png’, ‘retina’, ‘jpeg’, ‘svg’, ‘pdf’.\n",
    "%config InlineBackend.figure_format = 'svg'\n",
    "# this statement allows the visuals to render within your Jupyter Notebook\n",
    "%matplotlib inline \n",
    "import ipynb.fs.defs.functions as funcs\n",
    "\n",
    "pd.set_option('display.max_rows', 1000)"
   ]
  },
  {
   "cell_type": "code",
   "execution_count": null,
   "metadata": {},
   "outputs": [],
   "source": [
    "locations_df = pd.read_csv('http://web.mta.info/developers/data/nyct/turnstile/turnstile_200919.txt')\n",
    "highlighted_stations = pd.read_csv('important_stations.csv')"
   ]
  },
  {
   "cell_type": "code",
   "execution_count": null,
   "metadata": {},
   "outputs": [],
   "source": [
    "# read in october 2019 mta data\n",
    "oct_2019_df_list = ['191026', '191019', '191012', '191005']"
   ]
  },
  {
   "cell_type": "code",
   "execution_count": null,
   "metadata": {},
   "outputs": [],
   "source": [
    "oct_2019_df = funcs.combine_dfs_add_time(oct_2019_df_list)\n",
    "oct_2019_df.head()"
   ]
  },
  {
   "cell_type": "code",
   "execution_count": null,
   "metadata": {},
   "outputs": [],
   "source": [
    "oct_2019_df = funcs.add_entry_and_exit_differences(oct_2019_df)\n",
    "oct_2019_df.head()"
   ]
  },
  {
   "cell_type": "code",
   "execution_count": null,
   "metadata": {},
   "outputs": [],
   "source": [
    "oct_2019_df = funcs.clean_entry_exit_values(oct_2019_df, 100000)\n",
    "oct_2019_df.head()"
   ]
  },
  {
   "cell_type": "code",
   "execution_count": null,
   "metadata": {},
   "outputs": [],
   "source": [
    "oct_2019_totals_per_station = funcs.totals_combined_per_station(oct_2019_df)\n",
    "oct_2019_totals_per_station.sort_values(\"COMBINED\")"
   ]
  },
  {
   "cell_type": "code",
   "execution_count": null,
   "metadata": {},
   "outputs": [],
   "source": [
    "oct_2019_avg_per_station = funcs.avg_combined_per_station(oct_2019_df)\n",
    "oct_2019_avg_per_station.sort_values(\"COMBINED\")"
   ]
  },
  {
   "cell_type": "code",
   "execution_count": null,
   "metadata": {},
   "outputs": [],
   "source": [
    "oct_2019_avg_traffic_per_day_per_station = funcs.avg_per_day_of_week(oct_2019_df)\n",
    "oct_2019_avg_traffic_per_day_per_station.head()"
   ]
  },
  {
   "cell_type": "code",
   "execution_count": null,
   "metadata": {},
   "outputs": [],
   "source": [
    "oct_2019_avg_traffic_per_day_per_time_per_station = funcs.avg_per_day_of_week_and_time(oct_2019_df)\n",
    "oct_2019_avg_traffic_per_day_per_time_per_station.head()"
   ]
  },
  {
   "cell_type": "code",
   "execution_count": null,
   "metadata": {},
   "outputs": [],
   "source": [
    "highlighted_stations.head()"
   ]
  },
  {
   "cell_type": "code",
   "execution_count": null,
   "metadata": {},
   "outputs": [],
   "source": [
    "highlighted_stations.drop(['Unnamed: 0'], axis=1, inplace=True, errors='ignore')\n",
    "highlighted_stations.rename(columns={'stations': 'STATION'}, inplace=True)\n",
    "highlighted_stations.head()"
   ]
  },
  {
   "cell_type": "code",
   "execution_count": null,
   "metadata": {},
   "outputs": [],
   "source": [
    "station_score_df = highlighted_stations[[\"STATION\", \"total score\"]]\n",
    "station_score_df.head()"
   ]
  },
  {
   "cell_type": "code",
   "execution_count": null,
   "metadata": {},
   "outputs": [],
   "source": [
    "oct_totals_with_score = pd.merge(oct_2019_totals_per_station, highlighted_stations, on='STATION')\n",
    "oct_totals_with_score.head()"
   ]
  },
  {
   "cell_type": "code",
   "execution_count": null,
   "metadata": {},
   "outputs": [],
   "source": [
    "oct_totals_with_score_sorted = oct_totals_with_score.sort_values(by=[\"total score\", \"COMBINED\"], ascending=False)\n",
    "oct_totals_with_score_sorted.head()"
   ]
  },
  {
   "cell_type": "code",
   "execution_count": null,
   "metadata": {},
   "outputs": [],
   "source": [
    "color_mapper = {\n",
    "    \"7\":'g',\n",
    "    \"6\":'b',\n",
    "    \"5\":'y',\n",
    "    \"4\":'y',\n",
    "    \"3\":'orange',\n",
    "    \"2\":'r',\n",
    "    \"1\":'r',\n",
    "    \"0\":'r',\n",
    "}"
   ]
  },
  {
   "cell_type": "code",
   "execution_count": null,
   "metadata": {},
   "outputs": [],
   "source": [
    "oct_totals_with_score_sorted[\"color\"] = oct_totals_with_score_sorted[\"total score\"].astype(str).map(color_mapper)"
   ]
  },
  {
   "cell_type": "code",
   "execution_count": null,
   "metadata": {},
   "outputs": [],
   "source": [
    "oct_totals_with_score_sorted.head()"
   ]
  },
  {
   "cell_type": "code",
   "execution_count": null,
   "metadata": {},
   "outputs": [],
   "source": [
    "\n",
    "oct_totals_with_score_sorted.head(50).plot.bar(x='STATION', y='COMBINED', rot=0, color=oct_totals_with_score_sorted[\"color\"], figsize=(10,5))\n",
    "plt.title('Hello');"
   ]
  },
  {
   "cell_type": "code",
   "execution_count": null,
   "metadata": {},
   "outputs": [],
   "source": [
    "oct_totals_with_score[\"color\"] = oct_totals_with_score[\"total score\"].astype(str).map(color_mapper)"
   ]
  },
  {
   "cell_type": "code",
   "execution_count": null,
   "metadata": {},
   "outputs": [],
   "source": [
    "oct_totals_with_score.head(50).plot.bar(x='STATION', y='COMBINED', rot=0, color=oct_totals_with_score[\"color\"], figsize=(10,5))"
   ]
  },
  {
   "cell_type": "code",
   "execution_count": null,
   "metadata": {},
   "outputs": [],
   "source": []
  }
 ],
 "metadata": {
  "kernelspec": {
   "display_name": "Python 3",
   "language": "python",
   "name": "python3"
  },
  "language_info": {
   "codemirror_mode": {
    "name": "ipython",
    "version": 3
   },
   "file_extension": ".py",
   "mimetype": "text/x-python",
   "name": "python",
   "nbconvert_exporter": "python",
   "pygments_lexer": "ipython3",
   "version": "3.7.4"
  }
 },
 "nbformat": 4,
 "nbformat_minor": 2
}
